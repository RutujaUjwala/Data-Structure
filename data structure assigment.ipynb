{
 "cells": [
  {
   "cell_type": "raw",
   "id": "cbaeea10-193f-473c-bbbd-16fa0a26ca40",
   "metadata": {},
   "source": [
    "1) Write a code to reverse a string."
   ]
  },
  {
   "cell_type": "code",
   "execution_count": 1,
   "id": "ef079fd8-cb6e-45ae-a952-9c1ef7b857ed",
   "metadata": {},
   "outputs": [
    {
     "data": {
      "text/plain": [
       "'dlrow olleh'"
      ]
     },
     "execution_count": 1,
     "metadata": {},
     "output_type": "execute_result"
    }
   ],
   "source": [
    "# ans 1)\n",
    "a=\"hello world\"\n",
    "a[::-1] #[start: end: jump]"
   ]
  },
  {
   "cell_type": "raw",
   "id": "b3f5f956-89b9-481d-856b-f0f3d2bcd6ee",
   "metadata": {},
   "source": [
    "2)  Write a code to count the num\f",
    "ber of vowels in a string."
   ]
  },
  {
   "cell_type": "code",
   "execution_count": 13,
   "id": "35a52153-5572-43cb-9295-ba6b4f03ec41",
   "metadata": {},
   "outputs": [
    {
     "name": "stdout",
     "output_type": "stream",
     "text": [
      "number of value: 3\n"
     ]
    }
   ],
   "source": [
    "# ans 2)\n",
    "def count_vowel(input_str):\n",
    "    vowels = \"aeiou\" #define vowels\n",
    "    count = 0 # start from zero\n",
    "    for char in input_str: # itirate on each string\n",
    "        if char in vowels:\n",
    "            count += 1\n",
    "    return count\n",
    "input_str='hello pwskills'\n",
    "print('number of value:', count_vowel(input_str))"
   ]
  },
  {
   "cell_type": "raw",
   "id": "5027df10-10f9-41c6-a080-fa3a34d4fce6",
   "metadata": {},
   "source": [
    "3) Write a code to check if a given string is a palindro\f",
    "me or not."
   ]
  },
  {
   "cell_type": "code",
   "execution_count": 22,
   "id": "ce1fcb3b-c5da-4d61-b4f5-ed8b2f2c378a",
   "metadata": {},
   "outputs": [
    {
     "name": "stdout",
     "output_type": "stream",
     "text": [
      "\"A man a plan a canal Panama\" is not a palindrome.\n"
     ]
    }
   ],
   "source": [
    "#ans 3)\n",
    "input_string =\"A man a plan a canal Panama\" # forward and backword are same to read\n",
    "reverse =input_string[::-1]  #Check if the cleaned string is equal to its reverse\n",
    "if input_string in reverse:\n",
    "    print(f'\"{input_string}\" is a palindrome.')\n",
    "else:\n",
    "    print(f'\"{input_string}\" is not a palindrome.')"
   ]
  },
  {
   "cell_type": "raw",
   "id": "338dfea1-dcfc-4ed9-b1b3-fd9be9862426",
   "metadata": {},
   "source": [
    "4) Write a code to check if two given strings are anagra\f",
    "ms of each other"
   ]
  },
  {
   "cell_type": "code",
   "execution_count": 24,
   "id": "54f8634c-d157-40ca-b4f4-f26485f41f41",
   "metadata": {},
   "outputs": [
    {
     "name": "stdin",
     "output_type": "stream",
     "text": [
      "enter your word listen\n",
      "enter your word silent\n"
     ]
    },
    {
     "name": "stdout",
     "output_type": "stream",
     "text": [
      "True its anagrams\n"
     ]
    }
   ],
   "source": [
    "# ans 4)\n",
    "check1=input('enter your word')\n",
    "check2=input('enter your word')\n",
    "if sorted(check1)==sorted(check2): # sorted will convert in alphabatical or in assending order\n",
    "    print('True its anagrams')\n",
    "else:\n",
    "    print(\"False its not anagrams\")"
   ]
  },
  {
   "cell_type": "raw",
   "id": "c00bdc2b-5997-416e-97f0-3d49b7d5c5f6",
   "metadata": {},
   "source": [
    "5) Write a code to find all occurrences of a given substring within another strings."
   ]
  },
  {
   "cell_type": "code",
   "execution_count": 3,
   "id": "31639d3d-9001-47cf-8201-10f81a07d5f7",
   "metadata": {},
   "outputs": [
    {
     "name": "stdout",
     "output_type": "stream",
     "text": [
      "substring ocurs 3 times\n"
     ]
    }
   ],
   "source": [
    "#ans 3) \n",
    "my_string= 'I am in love with data science'\n",
    "substring= 'a'\n",
    "count=my_string.count(substring)\n",
    "print('substring ocurs %d times' % count)"
   ]
  },
  {
   "cell_type": "raw",
   "id": "65fdd18e-3b09-4296-8e81-cd04d2c72807",
   "metadata": {},
   "source": [
    "6)  Write a code to perfor\f",
    "m basic string co\f",
    "mpression using the counts of repeated characters."
   ]
  },
  {
   "cell_type": "code",
   "execution_count": 15,
   "id": "9c166afb-619f-46f2-b475-92c33fdfd8ba",
   "metadata": {},
   "outputs": [
    {
     "name": "stdout",
     "output_type": "stream",
     "text": [
      "\n",
      " {'T': 1, 'h': 1, 'i': 8, 's': 3, ' ': 10, 'm': 2, 'y': 2, 'f': 3, 'r': 1, 't': 4, 'd': 2, 'c': 2, 'u': 2, 'l': 1, 'o': 2, 'e': 2, 'b': 1, 'a': 1, 'n': 2, 'j': 1, 'g': 1}\n"
     ]
    }
   ],
   "source": [
    "char_count={}\n",
    "string='This is my first difficult code but i am enjoying it'\n",
    "for idx,char in enumerate(string): # iteration\n",
    "    if char not in char_count: \n",
    "        char_count[char] =1  # if we are seeing the number for the 1st time, set it's count to 1\n",
    "    else:\n",
    "        char_count[char] +=1 # we are seeing the number again, increase or update it's count\n",
    "print(\"\\n\", char_count)        \n",
    "    "
   ]
  },
  {
   "cell_type": "raw",
   "id": "09ad6c5a-7561-496b-9da4-a08d3bb4e94c",
   "metadata": {},
   "source": [
    "7)Write a code to deter\f",
    "mine if a string has all unique characters."
   ]
  },
  {
   "cell_type": "code",
   "execution_count": 17,
   "id": "6939fb81-f426-4f2c-b80b-f8c405bdfc0c",
   "metadata": {},
   "outputs": [
    {
     "name": "stdout",
     "output_type": "stream",
     "text": [
      "{'Ram', 'Vasudev', 'Krishna', 'siddhart', 'Siddhart'}\n"
     ]
    }
   ],
   "source": [
    "# ans7)\n",
    "student_name={'Ram','Krishna','Vasudev','Siddhart','Siddhart','Ram'} \n",
    "print(student_name)"
   ]
  },
  {
   "cell_type": "raw",
   "id": "9167f738-cf28-48c2-ac7d-652fe07dce09",
   "metadata": {},
   "source": [
    "8) Write a code to convert a given string to uppercase or lowercase."
   ]
  },
  {
   "cell_type": "code",
   "execution_count": 3,
   "id": "afaad0e0-b51c-4fae-8493-b1bb4a694ea5",
   "metadata": {},
   "outputs": [
    {
     "name": "stdout",
     "output_type": "stream",
     "text": [
      "pwskills\n"
     ]
    }
   ],
   "source": [
    "# ans 8)\n",
    "string='PWSKILLS'\n",
    "st=string.lower() # uppercase converting to lower\n",
    "print(st)"
   ]
  },
  {
   "cell_type": "raw",
   "id": "87f6f34f-ba30-45c2-b2fb-c0dd7920c5de",
   "metadata": {},
   "source": [
    "9)  Write a code to count the num\f",
    "ber of words in a string."
   ]
  },
  {
   "cell_type": "code",
   "execution_count": 7,
   "id": "030b1737-2cda-49b3-8f3e-f71f2e631fb7",
   "metadata": {},
   "outputs": [
    {
     "name": "stdout",
     "output_type": "stream",
     "text": [
      "12\n"
     ]
    }
   ],
   "source": [
    "learn =\"data science\"\n",
    "I_am_going_to_be_data_scientist=len(learn) # len is used to count\n",
    "print(I_am_going_to_be_data_scientist)"
   ]
  },
  {
   "cell_type": "raw",
   "id": "cc1c238e-9894-4ab6-8049-747728efa695",
   "metadata": {},
   "source": [
    "10) Write a code to concatenate two strings without using the + operator"
   ]
  },
  {
   "cell_type": "code",
   "execution_count": 14,
   "id": "37a5817b-dd54-4436-a497-42ae068bb4c9",
   "metadata": {},
   "outputs": [
    {
     "name": "stdout",
     "output_type": "stream",
     "text": [
      "I am winning the criket match\n"
     ]
    }
   ],
   "source": [
    "def string(enter): \n",
    "    print(\"I am winning\",enter) \n",
    "\n",
    "string('the criket match') # call string() aurgument "
   ]
  },
  {
   "cell_type": "raw",
   "id": "9f373f31-7b9f-423b-af6d-ac4015c7caab",
   "metadata": {},
   "source": [
    "11) Write a code to re\f",
    "move all occurrences of a specific ele\f",
    "ment fro\f",
    "m a list"
   ]
  },
  {
   "cell_type": "code",
   "execution_count": 19,
   "id": "de67256d-9f46-4f4f-89ed-0b4ba0e7668d",
   "metadata": {},
   "outputs": [
    {
     "name": "stdout",
     "output_type": "stream",
     "text": [
      "[12, 13, 14, 15, 17, 20]\n"
     ]
    }
   ],
   "source": [
    "# ans 11) \n",
    "num=[12,13,18,14,15,17,18,18,20]\n",
    "count=num.count(18) #count the number of times,18 ha appered in list\n",
    "for i in range(count):\n",
    "    num.remove(18)\n",
    "print(num)"
   ]
  },
  {
   "cell_type": "raw",
   "id": "f4ec0dec-c72c-42fc-aa59-cccd1e622dc7",
   "metadata": {},
   "source": [
    "12)  Im\f",
    "plem\f",
    "ent a code to find the second largest nu\f",
    "mber in a given list of integer."
   ]
  },
  {
   "cell_type": "code",
   "execution_count": 3,
   "id": "66675ab5-a563-4981-9c7a-663216d12438",
   "metadata": {},
   "outputs": [
    {
     "name": "stdout",
     "output_type": "stream",
     "text": [
      "50\n"
     ]
    }
   ],
   "source": [
    "list=[12,13,18,14,15,17,50,18,18,20,90]\n",
    "list.sort() #sort= asending order\n",
    "print(list[-2])"
   ]
  },
  {
   "cell_type": "raw",
   "id": "0ad4af86-9a3d-491e-8d4c-ac25689ae346",
   "metadata": {},
   "source": [
    "13) Create a code to count the occurrences of each ele\f",
    "ment in a list and return a dictionary with elem\f",
    "ents as keys and their counts as values\n"
   ]
  },
  {
   "cell_type": "code",
   "execution_count": 8,
   "id": "7a350af4-1bec-42dd-b3a1-2c5d82779348",
   "metadata": {},
   "outputs": [
    {
     "name": "stdout",
     "output_type": "stream",
     "text": [
      "{40: 2, 45: 2, 55: 2, 60: 1, 67: 2, 78: 1}\n"
     ]
    }
   ],
   "source": [
    "# ans 13)\n",
    "marks=[40,45,55,60,67,67,40,45,55,78]\n",
    "marks_count={} # dict\n",
    "for num in marks:\n",
    "    if num in marks_count:\n",
    "        marks_count[num]+=1 \n",
    "    else:\n",
    "        marks_count[num]=1\n",
    "print(marks_count)        "
   ]
  },
  {
   "cell_type": "raw",
   "id": "8fcab71e-a312-433e-9909-268797b7a28d",
   "metadata": {},
   "source": [
    "14) Write a code to reverse a list in-place without using any  built-in reverse functions."
   ]
  },
  {
   "cell_type": "code",
   "execution_count": 19,
   "id": "a6f5796f-4357-4405-8879-775076b1ff48",
   "metadata": {},
   "outputs": [
    {
     "name": "stdout",
     "output_type": "stream",
     "text": [
      "char_list: ['D', 'a', 't', 'a', ' ', 's', 'c', 'i', 'e', 'n', 'c', 'e']\n",
      "reverse: ecneics ataD\n"
     ]
    }
   ],
   "source": [
    "course='Data science'\n",
    "\n",
    "#Convert the string to a list of characters\n",
    "char_list=list(course)\n",
    "print(f\"char_list: {char_list}\")\n",
    "# Reversing the list in-place\n",
    "for i in range(len(char_list)//2):\n",
    "   # Store the value at the start in a temporary variable\n",
    "    temp=char_list[i]\n",
    "    # Replace the value at the start with the value at the end\n",
    "    char_list[i]=char_list[-i-1]\n",
    "     # Replace the value at the end with the value from the start stored in temp\n",
    "    char_list[-i-1]=temp\n",
    "# Convert the list of characters back to a string     \n",
    "reverse=\"\".join(char_list)\n",
    "print(f\"reverse: {reverse}\")\n",
    "    "
   ]
  },
  {
   "cell_type": "raw",
   "id": "deafa18f-e7c2-4a6f-bbb6-f3b1334d8251",
   "metadata": {},
   "source": [
    "15)Im\f",
    "plem\f",
    "ent a code to find and re\f",
    "move duplicates from\f",
    " a list while preserving the original order of elements"
   ]
  },
  {
   "cell_type": "code",
   "execution_count": 38,
   "id": "8ceec2ac-0336-4415-b13b-7fb2fecc8487",
   "metadata": {},
   "outputs": [
    {
     "name": "stdout",
     "output_type": "stream",
     "text": [
      "[1, 4, 3, 2, 33, 5]\n"
     ]
    }
   ],
   "source": [
    "list=[1,4,3,2,1,2,33,4,5,2,3,5,33]\n",
    "orignal_list=[]\n",
    "seen=set()\n",
    "for i in list:\n",
    "    if i not in seen:\n",
    "        orignal_list.append(i)\n",
    "        seen.add(i)\n",
    "print(orignal_list)\n",
    "   "
   ]
  },
  {
   "cell_type": "raw",
   "id": "3a5c6fdd-d341-4a66-bbeb-833c3a4a78ba",
   "metadata": {},
   "source": [
    "16) Create a code to check if a given list is sorted (either in ascending or descending order) or not\n"
   ]
  },
  {
   "cell_type": "code",
   "execution_count": 51,
   "id": "b92258bb-0a8c-4a20-82a3-512a2ea1c892",
   "metadata": {},
   "outputs": [
    {
     "name": "stdout",
     "output_type": "stream",
     "text": [
      "it is ascending\n"
     ]
    }
   ],
   "source": [
    "# 16ans)\n",
    "check=[33,44,11,1,2,8,7,5,3,66]\n",
    "# to sort in asending \n",
    "check.sort()\n",
    "check\n",
    "# Iterate through the list and check the order\n",
    "for num in range(len(check)):\n",
    "    a=check[i]\n",
    "    b=check[i+1]\n",
    "    if a>b:\n",
    "        ascending=False\n",
    "    if a<b:\n",
    "        asending=True\n",
    "# Determine the order of the list        \n",
    "if ascending:\n",
    "    print('it is ascending')    \n",
    "else:\n",
    "    print('it is desending')\n",
    "    "
   ]
  },
  {
   "cell_type": "raw",
   "id": "201db7d4-3e29-4698-bd3e-1d7725c9b2d3",
   "metadata": {},
   "source": [
    "17) Write a code to \f",
    "merge two sorted lists into a single sorted list"
   ]
  },
  {
   "cell_type": "code",
   "execution_count": 90,
   "id": "97f61ee8-7239-4f32-951d-924a499fb598",
   "metadata": {},
   "outputs": [
    {
     "name": "stdout",
     "output_type": "stream",
     "text": [
      "resize1: 6 | resize2: 6\n",
      "merge_list:[1, 2, 3, 4, 5, 6, 7, 8, 9, 10, 11, 12]\n"
     ]
    }
   ],
   "source": [
    "sort1=[1,3,5,7,9,11]\n",
    "sort2=[2,4,6,8,10,12]\n",
    "i,j=0,0\n",
    "merge_list=[]\n",
    "\n",
    "resize1=len(sort1)\n",
    "resize2=len(sort2)\n",
    "print(f'resize1: {resize1} | resize2: {resize2}')\n",
    "\n",
    "for _ in range(resize1+resize2):\n",
    "\n",
    "    if i==resize1:\n",
    "        # If sort1 is exhausted, add remaining elements of sort2\n",
    "        merge_list.append(sort2[j])\n",
    "        j=1+j\n",
    "    elif j==resize2:\n",
    "         # If sort2 is exhausted, add remaining elements of sort1\n",
    "        merge_list.append(sort1[i])\n",
    "        i=1+i\n",
    "    elif sort1[i] < sort2[j]:\n",
    "        # Add the smaller element from sort1 or sort2\n",
    "        merge_list.append(sort1[i])\n",
    "        i=1+i\n",
    "    else:\n",
    "        merge_list.append(sort2[j])\n",
    "        j=1+j\n",
    "print(f'merge_list:{merge_list}')   "
   ]
  },
  {
   "cell_type": "raw",
   "id": "f528e4ba-f88d-4d18-91fd-f9efe3ca732c",
   "metadata": {},
   "source": [
    "18)  Im\f",
    "ple\f",
    "ment a code to find the intersction of two given lists.\n"
   ]
  },
  {
   "cell_type": "code",
   "execution_count": 1,
   "id": "dfca6fce-7928-4190-bfad-2e03a63f819c",
   "metadata": {},
   "outputs": [
    {
     "name": "stdout",
     "output_type": "stream",
     "text": [
      "Intersection: [4, 5]\n"
     ]
    }
   ],
   "source": [
    "#18) ans\n",
    "list1 = [1, 2, 3, 4, 5]\n",
    "list2 = [4, 5, 6, 7, 8]\n",
    "\n",
    "# Using set intersection to find common elements\n",
    "intersection = list(set(list1) & set(list2))# using the (&)'AND' operator to get the common elements\n",
    "\n",
    "# Output the result\n",
    "print(f\"Intersection: {intersection}\")\n"
   ]
  },
  {
   "cell_type": "raw",
   "id": "041ec1d1-5586-4fc7-aabc-efe3a1f1ab3c",
   "metadata": {},
   "source": [
    "19)Create a code to find the union of two lists without duplicates"
   ]
  },
  {
   "cell_type": "code",
   "execution_count": 17,
   "id": "276deaae-07d0-4561-9ef9-086edb264b24",
   "metadata": {},
   "outputs": [
    {
     "name": "stdout",
     "output_type": "stream",
     "text": [
      "Union of the lists: [1, 2, 3, 4, 5, 6, 7, 8]\n"
     ]
    }
   ],
   "source": [
    "# 19 ans)\n",
    "list1 = [1, 2, 3, 4, 5]\n",
    "list2 = [4, 5, 6, 7, 8]\n",
    "\n",
    "# Using set union to combine elements and remove duplicates\n",
    "union_list = list(set(list1) | set(list2))\n",
    "\n",
    "# Output the result\n",
    "print(f\"Union of the lists: {union_list}\")\n"
   ]
  },
  {
   "cell_type": "raw",
   "id": "bc7fe0ab-91de-4a7b-9f9a-69f8e0a2516b",
   "metadata": {},
   "source": [
    "20) Write a code to shuffle a given list randomly without using any built-in shuffle functions"
   ]
  },
  {
   "cell_type": "code",
   "execution_count": 11,
   "id": "967b868a-0197-49eb-ad80-d8d2cce37935",
   "metadata": {},
   "outputs": [
    {
     "name": "stdout",
     "output_type": "stream",
     "text": [
      "Shuffled list: [5, 2, 4, 1, 3]\n"
     ]
    }
   ],
   "source": [
    "#20)ans\n",
    "import random\n",
    "\n",
    "input_list = [1, 2, 3, 4, 5]\n",
    "\n",
    "# Get the length of the list\n",
    "n = len(input_list)\n",
    "\n",
    "# Perform a Fisher-Yates shuffle (in-place)\n",
    "for i in range(n - 1, 0, -1):\n",
    "    # Generate a random index from 0 to i\n",
    "    j = random.randint(0, i)\n",
    "    # Swap the elements at indices i and j\n",
    "    input_list[i], input_list[j] = input_list[j], input_list[i]\n",
    "\n",
    "# Output the shuffled list\n",
    "print(f\"Shuffled list: {input_list}\")\n",
    "\n"
   ]
  },
  {
   "cell_type": "raw",
   "id": "d467df34-e8e7-465e-9b5f-156b19bb260d",
   "metadata": {},
   "source": [
    "21) Write a code that takes two tuples as input and returns a new tuple containing elements that are \n",
    "common to both input tuples"
   ]
  },
  {
   "cell_type": "code",
   "execution_count": 13,
   "id": "151a6459-a9a8-4166-8a4d-779a521b9051",
   "metadata": {},
   "outputs": [
    {
     "name": "stdout",
     "output_type": "stream",
     "text": [
      "Common elements tuple: (4, 5)\n"
     ]
    }
   ],
   "source": [
    "#21ans)\n",
    "\n",
    "tuple1 = (1, 2, 3, 4, 5)\n",
    "tuple2 = (4, 5, 6, 7, 8)\n",
    "\n",
    "# Convert tuples to sets to find the intersection (common elements)\n",
    "common_elements = set(tuple1) & set(tuple2)\n",
    "\n",
    "# Convert the result back to a tuple\n",
    "result_tuple = tuple(common_elements)\n",
    "\n",
    "# Output the result\n",
    "print(f\"Common elements tuple: {result_tuple}\")\n"
   ]
  },
  {
   "cell_type": "raw",
   "id": "338da4a2-4312-4ee0-8cfd-eae047e3ddd4",
   "metadata": {},
   "source": [
    "22) Create a code that prompts the user to enter two sets of integers separated by commas. Then, print the \n",
    "intersection of these two sets"
   ]
  },
  {
   "cell_type": "code",
   "execution_count": 15,
   "id": "9b4d4f78-c312-4bc6-8a88-29401c2c5a3a",
   "metadata": {},
   "outputs": [
    {
     "name": "stdin",
     "output_type": "stream",
     "text": [
      "Enter the first set of integers, separated by commas:  23,4,6,1,22,78\n",
      "Enter the second set of integers, separated by commas:  34,56,78,12,34,56\n"
     ]
    },
    {
     "name": "stdout",
     "output_type": "stream",
     "text": [
      "Intersection of the two sets: {78}\n"
     ]
    }
   ],
   "source": [
    "#22ans) \n",
    "# Prompt the user to enter the first set of integers\n",
    "input_set1 = input(\"Enter the first set of integers, separated by commas: \")\n",
    "# Prompt the user to enter the second set of integers\n",
    "input_set2 = input(\"Enter the second set of integers, separated by commas: \")\n",
    "\n",
    "# Convert the input strings into sets of integers\n",
    "set1 = set(map(int, input_set1.split(',')))\n",
    "set2 = set(map(int, input_set2.split(',')))\n",
    "\n",
    "# Find the intersection of the two sets\n",
    "intersection_set = set1 & set2\n",
    "\n",
    "# Print the result\n",
    "print(f\"Intersection of the two sets: {intersection_set}\")\n"
   ]
  },
  {
   "cell_type": "raw",
   "id": "aed16f42-0a72-4b7b-a5be-7e641a4d8b4e",
   "metadata": {},
   "source": [
    "23)Write a code to concatenate two tuples. The function should take two tuples as input and return a new \n",
    "tuple containing elements from both input tuples."
   ]
  },
  {
   "cell_type": "code",
   "execution_count": 20,
   "id": "007b0f85-50af-451b-9542-eb9dd204c742",
   "metadata": {},
   "outputs": [
    {
     "name": "stdout",
     "output_type": "stream",
     "text": [
      "Concatenated tuple: (1, 2, 3, 4, 5, 6)\n"
     ]
    }
   ],
   "source": [
    "#ans23)\n",
    "def concatenate_tuples(tuple1, tuple2):\n",
    "    # Concatenate the two tuples using the + operator\n",
    "    return tuple1 + tuple2\n",
    "\n",
    "\n",
    "tuple1 = (1, 2, 3)\n",
    "tuple2 = (4, 5, 6)\n",
    "\n",
    "# Call the function and print the result\n",
    "result_tuple = concatenate_tuples(tuple1, tuple2)\n",
    "print(f\"Concatenated tuple: {result_tuple}\")\n"
   ]
  },
  {
   "cell_type": "raw",
   "id": "5a96ab98-0b5d-4c68-93f9-7911aeed2c98",
   "metadata": {},
   "source": [
    "24)Develop a code that prompts the user to input two sets of strings. Then, print the elements that are \n",
    "present in the first set but not in the second set"
   ]
  },
  {
   "cell_type": "code",
   "execution_count": 22,
   "id": "8432eafe-2a3d-4f0e-8b6d-31c4ad6ddf56",
   "metadata": {},
   "outputs": [
    {
     "name": "stdin",
     "output_type": "stream",
     "text": [
      "Enter the first set of strings, separated by commas:  apple,banana,cherry\n",
      "Enter the second set of strings, separated by commas:  banana,grape\n"
     ]
    },
    {
     "name": "stdout",
     "output_type": "stream",
     "text": [
      "Elements in the first set but not in the second: {'apple', 'cherry'}\n"
     ]
    }
   ],
   "source": [
    "#ans24)\n",
    "# Prompt the user to enter the first set of strings\n",
    "input_set1 = input(\"Enter the first set of strings, separated by commas: \")\n",
    "\n",
    "# Prompt the user to enter the second set of strings\n",
    "input_set2 = input(\"Enter the second set of strings, separated by commas: \")\n",
    "\n",
    "# Convert the input strings into sets by splitting by commas\n",
    "set1 = set(input_set1.split(','))\n",
    "set2 = set(input_set2.split(','))\n",
    "\n",
    "# Find the elements that are in the first set but not in the second\n",
    "difference_set = set1 - set2\n",
    "\n",
    "# Print the result\n",
    "print(f\"Elements in the first set but not in the second: {difference_set}\")\n",
    "\n"
   ]
  },
  {
   "cell_type": "raw",
   "id": "77275a5a-9683-4aa8-ba87-bb3de8da1ccb",
   "metadata": {},
   "source": [
    "25) Create a code that takes a tuple and two integers as input. The function should return a new tuple \n",
    "containing elements from the original tuple within the specified range of indices"
   ]
  },
  {
   "cell_type": "code",
   "execution_count": 53,
   "id": "ec5e9853-23d1-4cd9-8748-bfebf13d30be",
   "metadata": {},
   "outputs": [
    {
     "name": "stdin",
     "output_type": "stream",
     "text": [
      "Enter the start index:  1\n",
      "Enter the end index:  6\n"
     ]
    },
    {
     "name": "stdout",
     "output_type": "stream",
     "text": [
      "New tuple containing elements from index 1 to 6: (20, 30, 40, 50, 60)\n"
     ]
    }
   ],
   "source": [
    "#25) ans\n",
    "def slice_tuple(input_tuple, start_index, end_index):\n",
    "    # Return a new tuple by slicing the input tuple from start_index to end_index\n",
    "    return input_tuple[start_index:end_index]\n",
    "\n",
    "# Example usage\n",
    "input_tuple = (10, 20, 30, 40, 50, 60, 70)\n",
    "\n",
    "# Prompt the user to enter the start and end indices\n",
    "start_index = int(input(\"Enter the start index: \"))\n",
    "end_index = int(input(\"Enter the end index: \"))\n",
    "\n",
    "# Call the function and print the result\n",
    "result_tuple = slice_tuple(input_tuple, start_index, end_index)\n",
    "print(f\"New tuple containing elements from index {start_index} to {end_index}: {result_tuple}\")\n"
   ]
  },
  {
   "cell_type": "raw",
   "id": "475ccf76-6c5d-4a85-905e-336dc038cda8",
   "metadata": {},
   "source": [
    "26)Write a code that prompts the user to input two sets of characters. Then, print the union of these two sets"
   ]
  },
  {
   "cell_type": "code",
   "execution_count": 55,
   "id": "bbc4d451-1f91-41dd-8c6b-9e7afda843a3",
   "metadata": {},
   "outputs": [
    {
     "name": "stdin",
     "output_type": "stream",
     "text": [
      "Enter the first set of characters, separated by commas:  a,d,c,d\n",
      "Enter the second set of characters, separated by commas:  e,r,t,a\n"
     ]
    },
    {
     "name": "stdout",
     "output_type": "stream",
     "text": [
      "Union of the two sets: {'c', 'e', 't', 'r', 'a', 'd'}\n"
     ]
    }
   ],
   "source": [
    "#26) ans\n",
    "# Prompt the user to enter the first set of characters\n",
    "input_set1 = input(\"Enter the first set of characters, separated by commas: \")\n",
    "\n",
    "# Prompt the user to enter the second set of characters\n",
    "input_set2 = input(\"Enter the second set of characters, separated by commas: \")\n",
    "\n",
    "# Convert the input strings into sets by splitting by commas\n",
    "set1 = set(input_set1.split(','))\n",
    "set2 = set(input_set2.split(','))\n",
    "\n",
    "# Find the union of the two sets\n",
    "union_set = set1 | set2\n",
    "\n",
    "# Print the result\n",
    "print(f\"Union of the two sets: {union_set}\")\n",
    "\n"
   ]
  },
  {
   "cell_type": "raw",
   "id": "cda16301-e353-4057-9208-20239cdf4a15",
   "metadata": {},
   "source": [
    "27) Develop a code that takes a tuple of integers as input. The function should return the maximum and \n",
    "minimum values from the tuple using tuple unpacking"
   ]
  },
  {
   "cell_type": "code",
   "execution_count": 57,
   "id": "ff5af932-ba24-4900-9dd4-f5662bd0abe8",
   "metadata": {},
   "outputs": [
    {
     "name": "stdout",
     "output_type": "stream",
     "text": [
      "Maximum value: 8\n",
      "Minimum value: 1\n"
     ]
    }
   ],
   "source": [
    "#27ans)\n",
    "def get_max_min(input_tuple):\n",
    "    # Calculate the maximum and minimum values\n",
    "    max_value = max(input_tuple)\n",
    "    min_value = min(input_tuple)\n",
    "    # Return the values as a tuple\n",
    "    return max_value, min_value\n",
    "\n",
    "# Example usage\n",
    "input_tuple = (3, 5, 1, 8, 2, 7)\n",
    "\n",
    "# Call the function and unpack the results\n",
    "max_val, min_val = get_max_min(input_tuple)\n",
    "\n",
    "# Print the results\n",
    "print(f\"Maximum value: {max_val}\")\n",
    "print(f\"Minimum value: {min_val}\")\n",
    "\n",
    "\n"
   ]
  },
  {
   "cell_type": "raw",
   "id": "389d6f6a-9ea5-45f8-b2ce-b1c0e8854c77",
   "metadata": {},
   "source": [
    "28) Create a code that defines two sets of integers. Then, print the union, intersection, and difference of these \n",
    "two sets"
   ]
  },
  {
   "cell_type": "code",
   "execution_count": 61,
   "id": "41b46bee-96aa-4d6f-889f-5b8b29d2292e",
   "metadata": {},
   "outputs": [
    {
     "name": "stdout",
     "output_type": "stream",
     "text": [
      "1) Union of the two sets: {1, 2, 3, 4, 5, 6, 7, 8}\n",
      "2) Intersection of the two sets: {4, 5}\n",
      "3) Difference (set1 - set2): {1, 2, 3}\n"
     ]
    }
   ],
   "source": [
    "#28)ans\n",
    "# Define two sets of integers\n",
    "set1 = {1, 2, 3, 4, 5}\n",
    "set2 = {4, 5, 6, 7, 8}\n",
    "\n",
    "# Compute the union of the sets\n",
    "union_set = set1 | set2\n",
    "\n",
    "# Compute the intersection of the sets\n",
    "intersection_set = set1 & set2\n",
    "\n",
    "# Compute the difference (elements in set1 but not in set2)\n",
    "difference_set = set1 - set2\n",
    "\n",
    "# Print the results\n",
    "print(f\"1) Union of the two sets: {union_set}\")\n",
    "print(f\"2) Intersection of the two sets: {intersection_set}\")\n",
    "print(f\"3) Difference (set1 - set2): {difference_set}\")\n"
   ]
  },
  {
   "cell_type": "raw",
   "id": "7ee780bf-e7bf-4b33-8e47-c9d1c8cb30d2",
   "metadata": {},
   "source": [
    "29) Write a code that takes a tuple and an element as input. The function should return the count of \n",
    "occurrences of the given element in the tuple"
   ]
  },
  {
   "cell_type": "code",
   "execution_count": 65,
   "id": "96a32b7e-6710-4bad-ab06-3cc4f4d9ccc8",
   "metadata": {},
   "outputs": [
    {
     "name": "stdin",
     "output_type": "stream",
     "text": [
      "Enter the element to count:  2\n"
     ]
    },
    {
     "name": "stdout",
     "output_type": "stream",
     "text": [
      "The element 2 occurs 3 times in the tuple.\n"
     ]
    }
   ],
   "source": [
    "#29)ans\n",
    "def count_occurrences(input_tuple, element):\n",
    "    # Use the count() method to find the number of occurrences of the element\n",
    "    return input_tuple.count(element)\n",
    "\n",
    "\n",
    "input_tuple = (1, 2, 3, 2, 4, 2, 5)\n",
    "element = int(input(\"Enter the element to count: \"))\n",
    "\n",
    "# Call the function and print the result\n",
    "occurrences = count_occurrences(input_tuple, element)\n",
    "print(f\"The element {element} occurs {occurrences} times in the tuple.\")\n"
   ]
  },
  {
   "cell_type": "raw",
   "id": "6f9ffc5e-b102-474b-abbf-9ece9946d234",
   "metadata": {},
   "source": [
    "30) Develop a code that prompts the user to input two sets of strings. Then, print the symmetric difference of \n",
    "these two sets"
   ]
  },
  {
   "cell_type": "code",
   "execution_count": 76,
   "id": "d48331b8-d0da-461a-9346-83b1ec59f0a7",
   "metadata": {},
   "outputs": [
    {
     "name": "stdin",
     "output_type": "stream",
     "text": [
      "Enter the first set of strings, separated by commas:  apple,banana,cherry\n",
      "Enter the second set of strings, separated by commas:  banana,grape,cherry\n"
     ]
    },
    {
     "name": "stdout",
     "output_type": "stream",
     "text": [
      "Symmetric difference of the two sets: {'grape', 'apple'}\n"
     ]
    }
   ],
   "source": [
    "#30)ans\n",
    "# Prompt the user to enter the first set of strings\n",
    "input_set1 = input(\"Enter the first set of strings, separated by commas: \")\n",
    "\n",
    "# Prompt the user to enter the second set of strings\n",
    "input_set2 = input(\"Enter the second set of strings, separated by commas: \")\n",
    "\n",
    "# Convert the input strings into sets by splitting them at commas\n",
    "set1 = set(input_set1.split(','))\n",
    "set2 = set(input_set2.split(','))\n",
    "\n",
    "# Find the symmetric difference of the two sets\n",
    "symmetric_difference = set1 ^ set2  # Or use set1.symmetric_difference(set2)\n",
    "\n",
    "# Print the result\n",
    "print(f\"Symmetric difference of the two sets: {symmetric_difference}\")\n",
    "\n",
    "\n"
   ]
  },
  {
   "cell_type": "raw",
   "id": "5e0e3df2-682c-421f-b72e-736432a31d80",
   "metadata": {},
   "source": [
    "31)Write a code that takes a list of words as input and returns a dictionary where the keys are unique words \n",
    "and the values are the frequencies of those words in the input list"
   ]
  },
  {
   "cell_type": "code",
   "execution_count": 86,
   "id": "33e2f922-86ed-4ca6-81f8-2c51f2fc3f02",
   "metadata": {},
   "outputs": [
    {
     "name": "stdin",
     "output_type": "stream",
     "text": [
      "Enter a list of words, separated by spaces:  apple banana apple cherry banana apple\n"
     ]
    },
    {
     "name": "stdout",
     "output_type": "stream",
     "text": [
      "Word frequencies: {'apple': 3, 'banana': 2, 'cherry': 1}\n"
     ]
    }
   ],
   "source": [
    "#31) ANS\n",
    "# Prompt the user to enter a list of words, separated by spaces\n",
    "input_words = input(\"Enter a list of words, separated by spaces: \").split()\n",
    "\n",
    "# Initialize an empty dictionary to store word frequencies\n",
    "word_frequencies = {}\n",
    "\n",
    "# Iterate through the list of words\n",
    "for word in input_words:\n",
    "    # If the word is already in the dictionary, increment its count\n",
    "    if word in word_frequencies:\n",
    "        word_frequencies[word] += 1\n",
    "    # If the word is not in the dictionary, add it with a count of 1\n",
    "    else:\n",
    "        word_frequencies[word] = 1\n",
    "\n",
    "# Output the resulting dictionary\n",
    "print(f\"Word frequencies: {word_frequencies}\")\n"
   ]
  },
  {
   "cell_type": "raw",
   "id": "9a6275d9-df59-491f-b471-3b468147aab1",
   "metadata": {},
   "source": [
    "32) Write a code that takes two dictionaries as input and merges them into a single dictionary. If there are \n",
    "common keys, the values should be added together"
   ]
  },
  {
   "cell_type": "code",
   "execution_count": 88,
   "id": "d9f8c2c2-34b2-442b-9649-8e2e794551f2",
   "metadata": {},
   "outputs": [
    {
     "name": "stdout",
     "output_type": "stream",
     "text": [
      "Merged dictionary: {'apple': 3, 'banana': 6, 'cherry': 6, 'date': 7}\n"
     ]
    }
   ],
   "source": [
    "#32 ans)\n",
    "# Example input dictionaries\n",
    "dict1 = {'apple': 3, 'banana': 2, 'cherry': 5}\n",
    "dict2 = {'banana': 4, 'cherry': 1, 'date': 7}\n",
    "\n",
    "# Initialize an empty dictionary to store the merged result\n",
    "merged_dict = {}\n",
    "\n",
    "# Merge dict1 into merged_dict\n",
    "for key, value in dict1.items():\n",
    "    merged_dict[key] = value\n",
    "\n",
    "# Merge dict2 into merged_dict, adding values for common keys\n",
    "for key, value in dict2.items():\n",
    "    if key in merged_dict:\n",
    "        merged_dict[key] += value  # Add the values if the key is common\n",
    "    else:\n",
    "        merged_dict[key] = value  # Add the key-value pair if not already present\n",
    "\n",
    "# Output the merged dictionary\n",
    "print(f\"Merged dictionary: {merged_dict}\")\n"
   ]
  },
  {
   "cell_type": "raw",
   "id": "6d678ec2-90cd-4c81-9e6e-f18ee493f88b",
   "metadata": {},
   "source": [
    " 33) Write a code to access a value in a nested dictionary. The function should take the dictionary and a list of \n",
    "keys as input, and return the corresponding value. If any of the keys do not exist in the dictionary, the \n",
    "function should return None"
   ]
  },
  {
   "cell_type": "code",
   "execution_count": 92,
   "id": "df1a5f1a-cb56-4946-9eea-75e1bd38509d",
   "metadata": {},
   "outputs": [
    {
     "name": "stdout",
     "output_type": "stream",
     "text": [
      "The value for the keys ['x', 'y', 'z'] is: 20\n"
     ]
    }
   ],
   "source": [
    "#33 ans)\n",
    "def get_nested_value(nested_dict, keys):\n",
    "    # Initialize the current level of the dictionary as the full dictionary\n",
    "    current_value = nested_dict\n",
    "    \n",
    "    # Iterate over each key in the list of keys\n",
    "    for key in keys:\n",
    "        # Check if the key exists at the current level\n",
    "        if key in current_value:\n",
    "            current_value = current_value[key]  # Go deeper into the dictionary\n",
    "        else:\n",
    "            return None  # Return None if the key doesn't exist\n",
    "    \n",
    "    # Return the final value after all keys have been accessed\n",
    "    return current_value\n",
    "\n",
    "# Example nested dictionary\n",
    "nested_dict = {\n",
    "    'a': {'b': {'c': 10}},\n",
    "    'x': {'y': {'z': 20}},\n",
    "}\n",
    "\n",
    "#  list of keys to access\n",
    "keys = ['x', 'y', 'z']\n",
    "\n",
    "# Call the function and print the result\n",
    "result = get_nested_value(nested_dict, keys)\n",
    "print(f\"The value for the keys {keys} is: {result}\")\n"
   ]
  },
  {
   "cell_type": "raw",
   "id": "5896bfc1-14c3-488f-ba23-1290ce5583d0",
   "metadata": {},
   "source": [
    "34)Write a code that takes a dictionary as input and returns a sorted version of it based on the values. You \n",
    "can choose whether to sort in ascending or descending order"
   ]
  },
  {
   "cell_type": "code",
   "execution_count": 94,
   "id": "f1c15589-1d43-40cc-a6e9-fac1eedb2b5d",
   "metadata": {},
   "outputs": [
    {
     "name": "stdin",
     "output_type": "stream",
     "text": [
      "Enter 'asc' for ascending or 'desc' for descending order:  asc\n"
     ]
    },
    {
     "name": "stdout",
     "output_type": "stream",
     "text": [
      "Sorted dictionary: {'banana': 2, 'date': 3, 'apple': 5, 'cherry': 8}\n"
     ]
    }
   ],
   "source": [
    "#34 ans)\n",
    "# Input: dictionary and sorting preference\n",
    "input_dict = {'apple': 5, 'banana': 2, 'cherry': 8, 'date': 3}\n",
    "\n",
    "# Ask the user for sorting preference\n",
    "order = input(\"Enter 'asc' for ascending or 'desc' for descending order: \")\n",
    "\n",
    "# Sort the dictionary based on values\n",
    "if order == 'asc':\n",
    "    sorted_dict = dict(sorted(input_dict.items(), key=lambda item: item[1]))\n",
    "elif order == 'desc':\n",
    "    sorted_dict = dict(sorted(input_dict.items(), key=lambda item: item[1], reverse=True))\n",
    "else:\n",
    "    print(\"Invalid input. Sorting in ascending order by default.\")\n",
    "    sorted_dict = dict(sorted(input_dict.items(), key=lambda item: item[1]))\n",
    "\n",
    "# Print the sorted dictionary\n",
    "print(f\"Sorted dictionary: {sorted_dict}\")\n"
   ]
  },
  {
   "cell_type": "raw",
   "id": "dec4c448-5fd9-4fea-bfb7-cc1e282536f1",
   "metadata": {},
   "source": [
    "35)Write a code that inverts a dictionary, swapping keys and values. Ensure that the inverted dictionary \n",
    "correctly handles cases where multiple keys have the same value by storing the keys as a list in the \n",
    "inverted dictionary."
   ]
  },
  {
   "cell_type": "code",
   "execution_count": 96,
   "id": "a0c0968d-c1c2-420b-b9fb-ff32641f8934",
   "metadata": {},
   "outputs": [
    {
     "name": "stdout",
     "output_type": "stream",
     "text": [
      "Inverted dictionary: {5: ['apple', 'cherry'], 2: ['banana'], 3: ['date']}\n"
     ]
    }
   ],
   "source": [
    "#35 ans)\n",
    "# Example input dictionary\n",
    "input_dict = {'apple': 5, 'banana': 2, 'cherry': 5, 'date': 3}\n",
    "\n",
    "# Initialize an empty dictionary for the inverted version\n",
    "inverted_dict = {}\n",
    "\n",
    "# Iterate over the original dictionary\n",
    "for key, value in input_dict.items():\n",
    "    # If the value already exists in the inverted dictionary\n",
    "    if value in inverted_dict:\n",
    "        inverted_dict[value].append(key)  # Append the key to the list of keys\n",
    "    else:\n",
    "        inverted_dict[value] = [key]  # Create a new list with the key as the first element\n",
    "\n",
    "# Output the inverted dictionary\n",
    "print(f\"Inverted dictionary: {inverted_dict}\")\n"
   ]
  }
 ],
 "metadata": {
  "kernelspec": {
   "display_name": "Python 3 (ipykernel)",
   "language": "python",
   "name": "python3"
  },
  "language_info": {
   "codemirror_mode": {
    "name": "ipython",
    "version": 3
   },
   "file_extension": ".py",
   "mimetype": "text/x-python",
   "name": "python",
   "nbconvert_exporter": "python",
   "pygments_lexer": "ipython3",
   "version": "3.12.4"
  }
 },
 "nbformat": 4,
 "nbformat_minor": 5
}
